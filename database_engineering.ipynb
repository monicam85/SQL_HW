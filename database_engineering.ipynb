{
 "cells": [
  {
   "cell_type": "code",
   "execution_count": 1,
   "metadata": {},
   "outputs": [],
   "source": [
    "#Import Dependensies\n",
    "import pandas as pd\n",
    "import matplotlib.pyplot as plt\n",
    "import csv\n",
    "from datetime import datetime\n",
    "\n",
    "import sqlalchemy\n",
    "from sqlalchemy.exc import IntegrityError\n",
    "from sqlalchemy.ext.automap import automap_base\n",
    "from sqlalchemy.orm import Session, relationship, backref\n",
    "from sqlalchemy import create_engine\n",
    "\n",
    "from sqlalchemy.ext.declarative import declarative_base # extract classes into tables\n",
    "from sqlalchemy import (Column, Integer, String, Float, Date, Table, MetaData, \n",
    "                        select, ForeignKey) # allow us to declare the column "
   ]
  },
  {
   "cell_type": "code",
   "execution_count": 2,
   "metadata": {},
   "outputs": [
    {
     "data": {
      "text/html": [
       "<div>\n",
       "<style scoped>\n",
       "    .dataframe tbody tr th:only-of-type {\n",
       "        vertical-align: middle;\n",
       "    }\n",
       "\n",
       "    .dataframe tbody tr th {\n",
       "        vertical-align: top;\n",
       "    }\n",
       "\n",
       "    .dataframe thead th {\n",
       "        text-align: right;\n",
       "    }\n",
       "</style>\n",
       "<table border=\"1\" class=\"dataframe\">\n",
       "  <thead>\n",
       "    <tr style=\"text-align: right;\">\n",
       "      <th></th>\n",
       "      <th>station</th>\n",
       "      <th>date</th>\n",
       "      <th>prcp</th>\n",
       "      <th>tobs</th>\n",
       "    </tr>\n",
       "  </thead>\n",
       "  <tbody>\n",
       "    <tr>\n",
       "      <th>0</th>\n",
       "      <td>USC00519397</td>\n",
       "      <td>2010-01-01</td>\n",
       "      <td>0.08</td>\n",
       "      <td>65</td>\n",
       "    </tr>\n",
       "    <tr>\n",
       "      <th>1</th>\n",
       "      <td>USC00519397</td>\n",
       "      <td>2010-01-02</td>\n",
       "      <td>0.00</td>\n",
       "      <td>63</td>\n",
       "    </tr>\n",
       "    <tr>\n",
       "      <th>2</th>\n",
       "      <td>USC00519397</td>\n",
       "      <td>2010-01-03</td>\n",
       "      <td>0.00</td>\n",
       "      <td>74</td>\n",
       "    </tr>\n",
       "    <tr>\n",
       "      <th>3</th>\n",
       "      <td>USC00519397</td>\n",
       "      <td>2010-01-04</td>\n",
       "      <td>0.00</td>\n",
       "      <td>76</td>\n",
       "    </tr>\n",
       "    <tr>\n",
       "      <th>4</th>\n",
       "      <td>USC00519397</td>\n",
       "      <td>2010-01-07</td>\n",
       "      <td>0.06</td>\n",
       "      <td>70</td>\n",
       "    </tr>\n",
       "  </tbody>\n",
       "</table>\n",
       "</div>"
      ],
      "text/plain": [
       "       station        date  prcp  tobs\n",
       "0  USC00519397  2010-01-01  0.08    65\n",
       "1  USC00519397  2010-01-02  0.00    63\n",
       "2  USC00519397  2010-01-03  0.00    74\n",
       "3  USC00519397  2010-01-04  0.00    76\n",
       "4  USC00519397  2010-01-07  0.06    70"
      ]
     },
     "execution_count": 2,
     "metadata": {},
     "output_type": "execute_result"
    }
   ],
   "source": [
    "# Read CSV\n",
    "csv_path ='./Resources/clean_hawaii_measurements.csv'\n",
    "measurements = pd.read_csv(csv_path, encoding='ISO-8859-1')\n",
    "measurements.head()"
   ]
  },
  {
   "cell_type": "code",
   "execution_count": 3,
   "metadata": {},
   "outputs": [
    {
     "data": {
      "text/html": [
       "<div>\n",
       "<style scoped>\n",
       "    .dataframe tbody tr th:only-of-type {\n",
       "        vertical-align: middle;\n",
       "    }\n",
       "\n",
       "    .dataframe tbody tr th {\n",
       "        vertical-align: top;\n",
       "    }\n",
       "\n",
       "    .dataframe thead th {\n",
       "        text-align: right;\n",
       "    }\n",
       "</style>\n",
       "<table border=\"1\" class=\"dataframe\">\n",
       "  <thead>\n",
       "    <tr style=\"text-align: right;\">\n",
       "      <th></th>\n",
       "      <th>station</th>\n",
       "      <th>name</th>\n",
       "      <th>latitude</th>\n",
       "      <th>longitude</th>\n",
       "      <th>elevation</th>\n",
       "    </tr>\n",
       "  </thead>\n",
       "  <tbody>\n",
       "    <tr>\n",
       "      <th>0</th>\n",
       "      <td>USC00519397</td>\n",
       "      <td>WAIKIKI 717.2, HI US</td>\n",
       "      <td>21.2716</td>\n",
       "      <td>-157.8168</td>\n",
       "      <td>3.0</td>\n",
       "    </tr>\n",
       "    <tr>\n",
       "      <th>1</th>\n",
       "      <td>USC00513117</td>\n",
       "      <td>KANEOHE 838.1, HI US</td>\n",
       "      <td>21.4234</td>\n",
       "      <td>-157.8015</td>\n",
       "      <td>14.6</td>\n",
       "    </tr>\n",
       "    <tr>\n",
       "      <th>2</th>\n",
       "      <td>USC00514830</td>\n",
       "      <td>KUALOA RANCH HEADQUARTERS 886.9, HI US</td>\n",
       "      <td>21.5213</td>\n",
       "      <td>-157.8374</td>\n",
       "      <td>7.0</td>\n",
       "    </tr>\n",
       "    <tr>\n",
       "      <th>3</th>\n",
       "      <td>USC00517948</td>\n",
       "      <td>PEARL CITY, HI US</td>\n",
       "      <td>21.3934</td>\n",
       "      <td>-157.9751</td>\n",
       "      <td>11.9</td>\n",
       "    </tr>\n",
       "    <tr>\n",
       "      <th>4</th>\n",
       "      <td>USC00518838</td>\n",
       "      <td>UPPER WAHIAWA 874.3, HI US</td>\n",
       "      <td>21.4992</td>\n",
       "      <td>-158.0111</td>\n",
       "      <td>306.6</td>\n",
       "    </tr>\n",
       "  </tbody>\n",
       "</table>\n",
       "</div>"
      ],
      "text/plain": [
       "       station                                    name  latitude  longitude  \\\n",
       "0  USC00519397                    WAIKIKI 717.2, HI US   21.2716  -157.8168   \n",
       "1  USC00513117                    KANEOHE 838.1, HI US   21.4234  -157.8015   \n",
       "2  USC00514830  KUALOA RANCH HEADQUARTERS 886.9, HI US   21.5213  -157.8374   \n",
       "3  USC00517948                       PEARL CITY, HI US   21.3934  -157.9751   \n",
       "4  USC00518838              UPPER WAHIAWA 874.3, HI US   21.4992  -158.0111   \n",
       "\n",
       "   elevation  \n",
       "0        3.0  \n",
       "1       14.6  \n",
       "2        7.0  \n",
       "3       11.9  \n",
       "4      306.6  "
      ]
     },
     "execution_count": 3,
     "metadata": {},
     "output_type": "execute_result"
    }
   ],
   "source": [
    "# Read CSV\n",
    "csv_path ='./Resources/hawaii_stations.csv'\n",
    "stations_data = pd.read_csv(csv_path, encoding='ISO-8859-1')\n",
    "stations_data.head()"
   ]
  },
  {
   "cell_type": "code",
   "execution_count": 4,
   "metadata": {},
   "outputs": [],
   "source": [
    "Base = declarative_base() "
   ]
  },
  {
   "cell_type": "code",
   "execution_count": 5,
   "metadata": {},
   "outputs": [],
   "source": [
    "class Measurement(Base):\n",
    "    __tablename__= \"measurement\"\n",
    "    #station = Column(String(255), ForeignKey('station.station'), primary_key=True)\n",
    "    station_id = Column(String(255), ForeignKey('station.station'), primary_key=True)\n",
    "    date = Column(Date, primary_key=True)\n",
    "    prcp = Column(Float)\n",
    "    tobs = Column(Integer)\n",
    "    #stations = relationship(\"Station\", backref=backref('measurement', order_by=date))\n",
    "    \n",
    "class Station(Base):\n",
    "    __tablename__= \"station\"\n",
    "    station = Column(String(255), primary_key=True)\n",
    "    name = Column(String(255))\n",
    "    latitude = Column(Float)\n",
    "    longitude = Column(Float)\n",
    "    elevation = Column(Float)"
   ]
  },
  {
   "cell_type": "code",
   "execution_count": 6,
   "metadata": {},
   "outputs": [],
   "source": [
    "engine = create_engine('sqlite:///hawaii.sqlite')"
   ]
  },
  {
   "cell_type": "code",
   "execution_count": 7,
   "metadata": {},
   "outputs": [],
   "source": [
    "Base.metadata.create_all(engine)"
   ]
  },
  {
   "cell_type": "code",
   "execution_count": 8,
   "metadata": {},
   "outputs": [
    {
     "data": {
      "text/plain": [
       "immutabledict({'measurement': Table('measurement', MetaData(bind=None), Column('station_id', String(length=255), ForeignKey('station.station'), table=<measurement>, primary_key=True, nullable=False), Column('date', Date(), table=<measurement>, primary_key=True, nullable=False), Column('prcp', Float(), table=<measurement>), Column('tobs', Integer(), table=<measurement>), schema=None), 'station': Table('station', MetaData(bind=None), Column('station', String(length=255), table=<station>, primary_key=True, nullable=False), Column('name', String(length=255), table=<station>), Column('latitude', Float(), table=<station>), Column('longitude', Float(), table=<station>), Column('elevation', Float(), table=<station>), schema=None)})"
      ]
     },
     "execution_count": 8,
     "metadata": {},
     "output_type": "execute_result"
    }
   ],
   "source": [
    "Base.metadata.tables"
   ]
  },
  {
   "cell_type": "code",
   "execution_count": 9,
   "metadata": {},
   "outputs": [],
   "source": [
    "from sqlalchemy.orm import Session\n",
    "session = Session(bind=engine)"
   ]
  },
  {
   "cell_type": "code",
   "execution_count": 10,
   "metadata": {},
   "outputs": [],
   "source": [
    "def csvtoDictList(csvFilePath):\n",
    "    dictlist=[]\n",
    "    csvfile = open(csvFilePath)\n",
    "    csvReader = csv.reader(csvfile)\n",
    "    keys = csvReader.__next__()\n",
    "    keys[0] = str(keys[0] + '_id')\n",
    "    for line in csvReader:\n",
    "        tmp = line[1].split('-')\n",
    "        line[1] = datetime(int(tmp[0]),int(tmp[1]),int(tmp[2]))\n",
    "        line[2] = float(line[2])\n",
    "        line[3] = int(line[3])\n",
    "        dictlist.append(dict(zip(keys,line)))\n",
    "    return dictlist\n",
    "\n",
    "def csv2DictList(csvFilePath):\n",
    "    dictlist=[]\n",
    "    csvfile = open(csvFilePath)\n",
    "    csvReader = csv.reader(csvfile)\n",
    "    keys = csvReader.__next__()\n",
    "    for line in csvReader:\n",
    "        line[2] = float(line[2])\n",
    "        line[3] = float(line[3])\n",
    "        line[4] = float(line[4])\n",
    "        dictlist.append(dict(zip(keys,line)))\n",
    "    return dictlist"
   ]
  },
  {
   "cell_type": "code",
   "execution_count": 11,
   "metadata": {},
   "outputs": [],
   "source": [
    "measurement_data = csvtoDictList('./Resources/clean_hawaii_measurements.csv')\n",
    "station_data = csv2DictList('./Resources/hawaii_stations.csv')\n",
    "meta = MetaData()\n",
    "meta.reflect(bind=engine)\n",
    "measurement_table=meta.tables['measurement']\n",
    "station_table=meta.tables['station']"
   ]
  },
  {
   "cell_type": "code",
   "execution_count": 12,
   "metadata": {},
   "outputs": [
    {
     "data": {
      "text/plain": [
       "<sqlalchemy.engine.result.ResultProxy at 0x236ffa78a90>"
      ]
     },
     "execution_count": 12,
     "metadata": {},
     "output_type": "execute_result"
    }
   ],
   "source": [
    "conn = engine.connect() \n",
    "conn.execute(station_table.insert(), station_data)\n",
    "conn.execute(measurement_table.insert(), measurement_data)"
   ]
  },
  {
   "cell_type": "code",
   "execution_count": 13,
   "metadata": {},
   "outputs": [],
   "source": [
    "conn = engine.connect()\n",
    "stmt=measurement_table.select().limit(5)\n",
    "stmt2=station_table.select().limit(5)\n",
    "rs=conn.execute(stmt).fetchall()\n",
    "rs2=conn.execute(stmt2).fetchall()\n",
    "conn.close()"
   ]
  },
  {
   "cell_type": "code",
   "execution_count": 14,
   "metadata": {},
   "outputs": [
    {
     "name": "stdout",
     "output_type": "stream",
     "text": [
      "USC00519397 WAIKIKI 717.2, HI US -157.8168 21.2716 3.0\n",
      "USC00513117 KANEOHE 838.1, HI US -157.8015 21.4234 14.6\n",
      "USC00514830 KUALOA RANCH HEADQUARTERS 886.9, HI US -157.8374 21.5213 7.0\n",
      "USC00517948 PEARL CITY, HI US -157.9751 21.3934 11.9\n",
      "USC00518838 UPPER WAHIAWA 874.3, HI US -158.0111 21.4992 306.6\n"
     ]
    }
   ],
   "source": [
    "for idx, row in enumerate(rs2):\n",
    "    print((rs2[idx]).station, (rs2[idx]).name, (rs2[idx]).longitude, \n",
    "          (rs2[idx]).latitude, (rs2[idx]).elevation)"
   ]
  },
  {
   "cell_type": "code",
   "execution_count": 15,
   "metadata": {},
   "outputs": [
    {
     "name": "stdout",
     "output_type": "stream",
     "text": [
      "USC00519397 2010-01-01 0.08 65\n",
      "USC00519397 2010-01-02 0.0 63\n",
      "USC00519397 2010-01-03 0.0 74\n",
      "USC00519397 2010-01-04 0.0 76\n",
      "USC00519397 2010-01-07 0.06 70\n"
     ]
    }
   ],
   "source": [
    "for idx, row in enumerate(rs):\n",
    "    print((rs[idx]).station_id, (rs[idx]).date, (rs[idx]).prcp, (rs[idx]).tobs)"
   ]
  },
  {
   "cell_type": "code",
   "execution_count": null,
   "metadata": {},
   "outputs": [],
   "source": []
  }
 ],
 "metadata": {
  "kernelspec": {
   "display_name": "Python 3",
   "language": "python",
   "name": "python3"
  },
  "language_info": {
   "codemirror_mode": {
    "name": "ipython",
    "version": 3
   },
   "file_extension": ".py",
   "mimetype": "text/x-python",
   "name": "python",
   "nbconvert_exporter": "python",
   "pygments_lexer": "ipython3",
   "version": "3.6.3"
  }
 },
 "nbformat": 4,
 "nbformat_minor": 2
}
